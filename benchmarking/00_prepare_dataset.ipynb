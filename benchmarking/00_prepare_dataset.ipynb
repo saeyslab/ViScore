{
 "cells": [
  {
   "cell_type": "markdown",
   "metadata": {},
   "source": [
    "# Preparing single-cell data for a benchmark\n",
    "\n",
    "To streamline benchmarking, we download a number of scRNA-seq datasets, apply pre-processing and extract the PCA-transformed data, along with a single vector of manual labels.\n",
    "We also create a *k*-nearest-neighbour graph (*k*-NNG) for denoising or triplet generation.\n",
    "Datasets differ in the type of pre-processing they need, as well as the name of the manual label column.\n",
    "\n",
    "Use and adapt the code below to download and prepare your datasets.\n",
    "Some cells use Bash commands for downloading data, assuming this is run on Linux/macOS machine.\n",
    "You can also download your data using your browser, or run this notebook in Google Colab (you can mount your Google Drive there).\n",
    "\n",
    "### Benchmarking on cytometry datasets\n",
    "\n",
    "This is easily adaptable to flow and mass cytometry data.\n",
    "You can find examples of basic FCS file data pre-processing [here](https://pytometry.netlify.app/examples/01_preprocess_cytof_oetjen) and [here](https://github.com/saeyslab/ViVAE/blob/main/example_cytometry.ipynb)."
   ]
  },
  {
   "cell_type": "code",
   "execution_count": 1,
   "metadata": {},
   "outputs": [
    {
     "name": "stderr",
     "output_type": "stream",
     "text": [
      "/Users/davidnovak/miniforge3/envs/ViVAE/lib/python3.11/site-packages/anndata/utils.py:434: FutureWarning: Importing read_csv from `anndata` is deprecated. Import anndata.io.read_csv instead.\n",
      "  warnings.warn(msg, FutureWarning)\n",
      "/Users/davidnovak/miniforge3/envs/ViVAE/lib/python3.11/site-packages/anndata/utils.py:434: FutureWarning: Importing read_excel from `anndata` is deprecated. Import anndata.io.read_excel instead.\n",
      "  warnings.warn(msg, FutureWarning)\n",
      "/Users/davidnovak/miniforge3/envs/ViVAE/lib/python3.11/site-packages/anndata/utils.py:434: FutureWarning: Importing read_hdf from `anndata` is deprecated. Import anndata.io.read_hdf instead.\n",
      "  warnings.warn(msg, FutureWarning)\n",
      "/Users/davidnovak/miniforge3/envs/ViVAE/lib/python3.11/site-packages/anndata/utils.py:434: FutureWarning: Importing read_loom from `anndata` is deprecated. Import anndata.io.read_loom instead.\n",
      "  warnings.warn(msg, FutureWarning)\n",
      "/Users/davidnovak/miniforge3/envs/ViVAE/lib/python3.11/site-packages/anndata/utils.py:434: FutureWarning: Importing read_mtx from `anndata` is deprecated. Import anndata.io.read_mtx instead.\n",
      "  warnings.warn(msg, FutureWarning)\n",
      "/Users/davidnovak/miniforge3/envs/ViVAE/lib/python3.11/site-packages/anndata/utils.py:434: FutureWarning: Importing read_text from `anndata` is deprecated. Import anndata.io.read_text instead.\n",
      "  warnings.warn(msg, FutureWarning)\n",
      "/Users/davidnovak/miniforge3/envs/ViVAE/lib/python3.11/site-packages/anndata/utils.py:434: FutureWarning: Importing read_umi_tools from `anndata` is deprecated. Import anndata.io.read_umi_tools instead.\n",
      "  warnings.warn(msg, FutureWarning)\n"
     ]
    }
   ],
   "source": [
    "import scanpy as sc\n",
    "import numpy as np\n",
    "import os\n",
    "import viscore as vs"
   ]
  },
  {
   "cell_type": "markdown",
   "metadata": {},
   "source": [
    "#### **0.** Set up dataset name and output path\n",
    "\n",
    "These will be used for storing the dataset."
   ]
  },
  {
   "cell_type": "code",
   "execution_count": null,
   "metadata": {},
   "outputs": [],
   "source": [
    "dataset_name = 'Triana'\n",
    "output_path = './data'"
   ]
  },
  {
   "cell_type": "code",
   "execution_count": null,
   "metadata": {},
   "outputs": [],
   "source": [
    "if not os.path.exists(output_path):\n",
    "    os.mkdir(output_path)"
   ]
  },
  {
   "cell_type": "markdown",
   "metadata": {},
   "source": [
    "#### **1.** Download dataset as H5AD file\n",
    "\n",
    "Datasets are most easily downloadable from the CELLxGENE database using `wget`."
   ]
  },
  {
   "cell_type": "code",
   "execution_count": null,
   "metadata": {},
   "outputs": [],
   "source": [
    "%%bash\n",
    "wget -O ./scrnaseq.h5ad https://datasets.cellxgene.cziscience.com/d738f73e-7c76-4ff9-b9ef-94a46bc217f4.h5ad >/dev/null 2>&1"
   ]
  },
  {
   "cell_type": "markdown",
   "metadata": {},
   "source": [
    "#### **2.** Pre-process counts/expression data\n",
    "\n",
    "If the `X` matrix contains a raw count matrix, set `counts` to `True`.\n",
    "Otherwise, if it already contains transformed expression values, set it to `False`, as fewer pre-processing steps need to be applied."
   ]
  },
  {
   "cell_type": "code",
   "execution_count": null,
   "metadata": {},
   "outputs": [],
   "source": [
    "counts = False\n",
    "\n",
    "hd = sc.read_h5ad('./scrnaseq.h5ad')\n",
    "\n",
    "## If we filter by some condition (eg. tissue=='blood'):\n",
    "# hd = hd[hd.obs['tissue']=='blood']\n",
    "\n",
    "if counts:\n",
    "    sc.pp.normalize_total(hd)\n",
    "    sc.pp.log1p(hd)\n",
    "sc.pp.scale(hd, max_value=10.)\n",
    "sc.tl.pca(hd, svd_solver='arpack', n_comps=100)\n",
    "pc = hd.obsm['X_pca']\n",
    "np.save(os.path.join(output_path, f'{dataset_name}_input.npy'), pc, allow_pickle=True)\n",
    "print(f'Saved {pc.shape[0]}-by-{pc.shape[1]} PC matrix')"
   ]
  },
  {
   "cell_type": "markdown",
   "metadata": {},
   "source": [
    "#### **3.** Extract annotation\n",
    "\n",
    "For plotting and supervised evaluation of embeddings, we need a set of labels per cell. Using `colname`, indicate which column of the `obs` dataframe should be used for this.\n",
    "\n",
    "Additionally, if there any populations that are considered unknown/unlabelled, list them in `unassigned`."
   ]
  },
  {
   "cell_type": "code",
   "execution_count": null,
   "metadata": {},
   "outputs": [],
   "source": [
    "colname = 'cell_type'\n",
    "unassigned = []\n",
    "\n",
    "labels = hd.obs[colname]\n",
    "np.save(os.path.join(output_path, f'{dataset_name}_labels.npy'), labels, allow_pickle=True)\n",
    "np.save(os.path.join(output_path, f'{dataset_name}_unassigned.npy'), unassigned, allow_pickle=True)\n",
    "print(f'Saved {len(labels)}-label vector with {len(np.unique(labels))} unique labels')"
   ]
  },
  {
   "cell_type": "markdown",
   "metadata": {},
   "source": [
    "#### **4.** Create *k*-NNG\n",
    "\n",
    "A *k*-nearest neighbour graph is pre-computed to be able to denoise the input expression matrix.\n",
    "A pre-computed *k*-NNG can also be used in some DR methods (*eg.* ivis, UMAP, DensMAP) where the *k*-NN relations within our input point cloud are used."
   ]
  },
  {
   "cell_type": "code",
   "execution_count": null,
   "metadata": {},
   "outputs": [],
   "source": [
    "k = 150\n",
    "\n",
    "knn = vs.make_knn(x=pc, k=k, fname=os.path.join(output_path, f'{dataset_name}_knn.npy'), verbose=False)\n",
    "print(f'Saved {k}-nearest-neighbour graph')"
   ]
  },
  {
   "cell_type": "markdown",
   "metadata": {},
   "source": [
    "#### **5.** Create denoised input matrix\n",
    "\n",
    "We already create the denoised expression matrix, used by default by ViVAE.\n",
    "It can, in principle, be used by any embedding algorithm."
   ]
  },
  {
   "cell_type": "code",
   "execution_count": null,
   "metadata": {},
   "outputs": [],
   "source": [
    "pc_d = vs.smooth(pc, knn, k=1000, coef=1., n_iter=1)\n",
    "np.save(os.path.join(output_path, f'{dataset_name}_inpu_denoised.npy'), pc_d, allow_pickle=True)\n",
    "print('Saved denoised PC matrix')"
   ]
  },
  {
   "cell_type": "markdown",
   "metadata": {},
   "source": [
    "#### **6.** Create *k*-NNG on denoised data\n",
    "\n",
    "If we want to provide a *k*-NNG to an algorithm that we run on denoised data, we should passed a *k*-NNG base on the denoised coordinates.\n",
    "For completeness, we compute that as well."
   ]
  },
  {
   "cell_type": "code",
   "execution_count": null,
   "metadata": {},
   "outputs": [],
   "source": [
    "knn = vs.make_knn(x=pc_d, k=k, fname=os.path.join(output_path, f'{dataset_name}_knn_denoised.npy'), verbose=False)\n",
    "print(f'Saved denoised {k}-nearest-neighbour graph')"
   ]
  },
  {
   "cell_type": "markdown",
   "metadata": {},
   "source": [
    "#### *7.* Remove the H5AD file\n",
    "\n",
    "If everything went well and we don't need the H5AD data anymore, we can delete the original downloaded file."
   ]
  },
  {
   "cell_type": "code",
   "execution_count": null,
   "metadata": {},
   "outputs": [],
   "source": [
    "%%bash\n",
    "rm ./scrnaseq.h5ad"
   ]
  }
 ],
 "metadata": {
  "kernelspec": {
   "display_name": "ViVAE",
   "language": "python",
   "name": "python3"
  },
  "language_info": {
   "codemirror_mode": {
    "name": "ipython",
    "version": 3
   },
   "file_extension": ".py",
   "mimetype": "text/x-python",
   "name": "python",
   "nbconvert_exporter": "python",
   "pygments_lexer": "ipython3",
   "version": "3.11.9"
  }
 },
 "nbformat": 4,
 "nbformat_minor": 2
}
